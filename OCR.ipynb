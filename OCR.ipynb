{
 "cells": [
  {
   "cell_type": "code",
   "execution_count": 10,
   "metadata": {},
   "outputs": [],
   "source": [
    "import cv2\n",
    "import numpy as np\n",
    "import glob\n",
    "import pytesseract\n",
    "import pandas as pd \n",
    "\n",
    "pytesseract.pytesseract.tesseract_cmd = r'C:\\Program Files\\Tesseract-OCR\\tesseract.exe'"
   ]
  },
  {
   "cell_type": "code",
   "execution_count": 327,
   "metadata": {},
   "outputs": [],
   "source": [
    "def rotateImage(images):\n",
    "    for i, image in enumerate(images):\n",
    "        img = Image.open(image)\n",
    "        img = img.rotate(14)\n",
    "        img.save('Datasets\\\\rotated\\\\plate' + str(i) + '.png', 'PNG')\n",
    "\n",
    "def adaptiveThreshold(plates):\n",
    "    for i, plate in enumerate(plates):\n",
    "        img = cv2.imread(plate)\n",
    "\n",
    "        gray = cv2.cvtColor(img, cv2.COLOR_RGB2GRAY)\n",
    "        #cv2.imshow('gray', gray)\n",
    "\n",
    "        ret, thresh = cv2.threshold(gray, 50, 255, cv2.THRESH_BINARY)\n",
    "        # cv2.imshow('thresh', thresh)\n",
    "\n",
    "        threshMean = cv2.adaptiveThreshold(gray, 255, cv2.ADAPTIVE_THRESH_MEAN_C, cv2.THRESH_BINARY, 5, 10)\n",
    "        # cv2.imshow('threshMean', threshMean)\n",
    "\n",
    "        threshGauss = cv2.adaptiveThreshold(gray, 255, cv2.ADAPTIVE_THRESH_GAUSSIAN_C, cv2.THRESH_BINARY, 51, 27)\n",
    "        #cv2.imshow('threshGauss', threshGauss)\n",
    "        cv2.imwrite(\"Datasets\\\\processed\\\\plate{}.png\".format(i), threshGauss)\n",
    "        #cv2.waitKey(0)\n",
    "\n",
    "\n",
    "def resize(processed):\n",
    "    for i, image in enumerate(processed):\n",
    "        image = cv2.imread(image)\n",
    "\n",
    "        ratio = 600.0 / image.shape[1]\n",
    "        dim = (600, int(image.shape[0] * ratio))\n",
    "\n",
    "        resizedCubic = cv2.resize(image, dim, interpolation=cv2.INTER_CUBIC)\n",
    "\n",
    "        cv2.imwrite(\"Datasets\\\\resized\\\\plate{}.png\".format(i), resizedCubic)\n",
    "        \n",
    "\n",
    "def addBorder(resized):\n",
    "    for i, image in enumerate(resized):\n",
    "        image = cv2.imread(image)\n",
    "\n",
    "        bordersize = 10\n",
    "        border = cv2.copyMakeBorder(image, top=bordersize, bottom=bordersize, left=bordersize, right=bordersize,\n",
    "                                    borderType=cv2.BORDER_CONSTANT, value=[255, 255, 255])\n",
    "\n",
    "        cv2.imwrite(\"Datasets\\\\borders\\\\plate{}.png\".format(i), border)\n",
    "        \n",
    "\n",
    "def cleanOCR(borders):\n",
    "    detectedOCR = []\n",
    "\n",
    "    for i, image in enumerate(borders):\n",
    "        image = cv2.imread(image)\n",
    "\n",
    "        edges = cv2.Canny(image, 50, 150, apertureSize=3)\n",
    "        lines = cv2.HoughLinesP(image=edges, rho=1, theta=np.pi / 180, threshold=100, lines=np.array([]),\n",
    "                                minLineLength=100, maxLineGap=80)\n",
    "\n",
    "        a, b, c = lines.shape\n",
    "        for i in range(a):\n",
    "            x = lines[i][0][0] - lines[i][0][2]\n",
    "            y = lines[i][0][1] - lines[i][0][3]\n",
    "            if x != 0:\n",
    "                if abs(y / x) < 1:\n",
    "                    cv2.line(image, (lines[i][0][0], lines[i][0][1]), (lines[i][0][2], lines[i][0][3]), (255, 255, 255),\n",
    "                             1, cv2.LINE_AA)\n",
    "\n",
    "        se = cv2.getStructuringElement(cv2.MORPH_ELLIPSE, (2, 2))\n",
    "        gray = cv2.morphologyEx(image, cv2.MORPH_CLOSE, se)\n",
    "\n",
    "        # OCR\n",
    "        config = '-l eng --oem 1 --psm 3'\n",
    "        text = pytesseract.image_to_string(gray, config=config)\n",
    "\n",
    "        validChars = ['A', 'B', 'C', 'D', 'E', 'F', 'G', 'H', 'I', 'J', 'K', 'L', 'M', 'N', 'O', 'P', 'Q', 'R', 'S',\n",
    "                      'T', 'U', 'V', 'W', 'X', 'Y', 'Z', '0', '1', '2', '3', '4', '5', '6', '7', '8', '9']\n",
    "\n",
    "        cleanText = []\n",
    "\n",
    "        for char in text:\n",
    "            if char in validChars:\n",
    "                cleanText.append(char)\n",
    "\n",
    "        plate = ''.join(cleanText)\n",
    "        # print(plate)\n",
    "\n",
    "        detectedOCR.append(plate)\n",
    "\n",
    "        # cv2.imshow('img', gray)\n",
    "        \n",
    "\n",
    "    return detectedOCR"
   ]
  },
  {
   "cell_type": "code",
   "execution_count": 328,
   "metadata": {},
   "outputs": [],
   "source": [
    "plates = glob.glob(\"Datasets\\\\plates\\\\*.png\")\n",
    "rotateImage(plates)"
   ]
  },
  {
   "cell_type": "code",
   "execution_count": 329,
   "metadata": {},
   "outputs": [],
   "source": [
    "rotated_plates = glob.glob(\"Datasets\\\\rotated\\\\*.png\")\n",
    "adaptiveThreshold(rotated_plates)\n"
   ]
  },
  {
   "cell_type": "code",
   "execution_count": 330,
   "metadata": {},
   "outputs": [],
   "source": [
    "processed = glob.glob(\"Datasets\\\\processed\\\\*.png\")\n",
    "resize(processed)\n"
   ]
  },
  {
   "cell_type": "code",
   "execution_count": 331,
   "metadata": {},
   "outputs": [],
   "source": [
    "resized = glob.glob(\"Datasets\\\\resized\\\\*.png\")\n",
    "addBorder(resized)\n"
   ]
  },
  {
   "cell_type": "code",
   "execution_count": 332,
   "metadata": {},
   "outputs": [],
   "source": [
    "bordered = glob.glob(\"Datasets\\\\borders\\\\*.png\")\n",
    "platesList = cleanOCR(bordered)"
   ]
  },
  {
   "cell_type": "code",
   "execution_count": 333,
   "metadata": {},
   "outputs": [
    {
     "name": "stdout",
     "output_type": "stream",
     "text": [
      "['GRSUA70A', 'G', '', 'JER37T']\n"
     ]
    },
    {
     "data": {
      "text/html": [
       "<div>\n",
       "<style scoped>\n",
       "    .dataframe tbody tr th:only-of-type {\n",
       "        vertical-align: middle;\n",
       "    }\n",
       "\n",
       "    .dataframe tbody tr th {\n",
       "        vertical-align: top;\n",
       "    }\n",
       "\n",
       "    .dataframe thead th {\n",
       "        text-align: right;\n",
       "    }\n",
       "</style>\n",
       "<table border=\"1\" class=\"dataframe\">\n",
       "  <thead>\n",
       "    <tr style=\"text-align: right;\">\n",
       "      <th></th>\n",
       "      <th>0</th>\n",
       "    </tr>\n",
       "  </thead>\n",
       "  <tbody>\n",
       "    <tr>\n",
       "      <th>0</th>\n",
       "      <td>GRSUA70A</td>\n",
       "    </tr>\n",
       "    <tr>\n",
       "      <th>1</th>\n",
       "      <td>G</td>\n",
       "    </tr>\n",
       "    <tr>\n",
       "      <th>2</th>\n",
       "      <td></td>\n",
       "    </tr>\n",
       "    <tr>\n",
       "      <th>3</th>\n",
       "      <td>JER37T</td>\n",
       "    </tr>\n",
       "  </tbody>\n",
       "</table>\n",
       "</div>"
      ],
      "text/plain": [
       "          0\n",
       "0  GRSUA70A\n",
       "1         G\n",
       "2          \n",
       "3    JER37T"
      ]
     },
     "execution_count": 333,
     "metadata": {},
     "output_type": "execute_result"
    }
   ],
   "source": [
    "print(platesList)\n",
    "plates = pd.DataFrame(platesList)\n",
    "plates"
   ]
  }
 ],
 "metadata": {
  "kernelspec": {
   "display_name": "Python 3",
   "language": "python",
   "name": "python3"
  },
  "language_info": {
   "codemirror_mode": {
    "name": "ipython",
    "version": 3
   },
   "file_extension": ".py",
   "mimetype": "text/x-python",
   "name": "python",
   "nbconvert_exporter": "python",
   "pygments_lexer": "ipython3",
   "version": "3.6.8"
  }
 },
 "nbformat": 4,
 "nbformat_minor": 2
}
