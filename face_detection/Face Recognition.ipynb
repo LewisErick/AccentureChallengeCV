{
 "cells": [
  {
   "cell_type": "code",
   "execution_count": null,
   "metadata": {},
   "outputs": [],
   "source": [
    "import cv2\n",
    "import matplotlib.pyplot as plt\n",
    "import numpy as np\n",
    "from yolo_opencv import get_objects"
   ]
  },
  {
   "cell_type": "code",
   "execution_count": null,
   "metadata": {},
   "outputs": [],
   "source": [
    "face_recognizer = cv2.face.LBPHFaceRecognizer_create()\n",
    "#face_recognizer = cv2.face.EigenFaceRecognizer_create()"
   ]
  },
  {
   "cell_type": "code",
   "execution_count": null,
   "metadata": {},
   "outputs": [],
   "source": [
    "labels = [\n",
    "    0, 1, 2\n",
    "]\n",
    "\n",
    "paths = [\n",
    "    \"face_0.png\",\n",
    "    \"face_1.png\",\n",
    "    \"face_2.png\"\n",
    "]\n",
    "\n",
    "faces = []\n",
    "for path in paths:\n",
    "    img = cv2.imread(path)\n",
    "    img = cv2.resize(img, (300, 300))\n",
    "    img_gray = cv2.cvtColor(img, cv2.COLOR_BGR2GRAY)\n",
    "    img_gray = cv2.equalizeHist(img_gray)\n",
    "    fig, ax = plt.subplots(figsize=(10,10))\n",
    "    ax.imshow(img_gray, cmap='gray')\n",
    "    faces.append(img_gray)"
   ]
  },
  {
   "cell_type": "code",
   "execution_count": null,
   "metadata": {},
   "outputs": [],
   "source": [
    "face_recognizer.train(faces, np.array(labels))"
   ]
  },
  {
   "cell_type": "code",
   "execution_count": null,
   "metadata": {},
   "outputs": [],
   "source": [
    "test_img = cv2.imread(\"face_2.png\")\n",
    "test_img = cv2.resize(test_img, (300, 300))\n",
    "test_img_gray = cv2.cvtColor(test_img, cv2.COLOR_BGR2GRAY)\n",
    "test_img_gray = cv2.equalizeHist(test_img_gray)\n",
    "\n",
    "label = face_recognizer.predict(test_img_gray)"
   ]
  },
  {
   "cell_type": "code",
   "execution_count": null,
   "metadata": {},
   "outputs": [],
   "source": [
    "label"
   ]
  },
  {
   "cell_type": "code",
   "execution_count": null,
   "metadata": {},
   "outputs": [],
   "source": []
  }
 ],
 "metadata": {
  "kernelspec": {
   "display_name": "Python 3",
   "language": "python",
   "name": "python3"
  },
  "language_info": {
   "codemirror_mode": {
    "name": "ipython",
    "version": 3
   },
   "file_extension": ".py",
   "mimetype": "text/x-python",
   "name": "python",
   "nbconvert_exporter": "python",
   "pygments_lexer": "ipython3",
   "version": "3.6.9"
  }
 },
 "nbformat": 4,
 "nbformat_minor": 2
}
