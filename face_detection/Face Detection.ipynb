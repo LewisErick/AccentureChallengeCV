{
 "cells": [
  {
   "cell_type": "code",
   "execution_count": null,
   "metadata": {},
   "outputs": [],
   "source": [
    "import cv2\n",
    "import matplotlib.pyplot as plt\n",
    "import numpy as np\n",
    "from yolo_opencv import get_objects\n",
    "\n",
    "i = 0"
   ]
  },
  {
   "cell_type": "code",
   "execution_count": null,
   "metadata": {
    "scrolled": true
   },
   "outputs": [],
   "source": [
    "objs = get_objects('IMG_20191030_132812.jpg', config=\"yolov3.cfg\",\n",
    "                weights=\"yolov3.weights\",\n",
    "                classes_=\"yolov3.txt\")\n",
    "image = None\n",
    "for obj in objs:\n",
    "    if obj[0] == 'person':\n",
    "        image = obj[1]"
   ]
  },
  {
   "cell_type": "code",
   "execution_count": null,
   "metadata": {},
   "outputs": [],
   "source": [
    "aspect_ratio = image.shape[0] / image.shape[1]\n",
    "new_size = 500\n",
    "img = cv2.resize(image, (int(new_size * (1/aspect_ratio)), int(new_size * (1*aspect_ratio))))\n",
    "\n",
    "fig, ax = plt.subplots(figsize=(10, 20))\n",
    "ax.imshow(cv2.cvtColor(img, cv2.COLOR_BGR2RGB))"
   ]
  },
  {
   "cell_type": "code",
   "execution_count": null,
   "metadata": {},
   "outputs": [],
   "source": [
    "img_gray = cv2.cvtColor(img, cv2.COLOR_BGR2GRAY)\n",
    "img_gray = cv2.equalizeHist(img_gray)\n",
    "\n",
    "haar_cascade_face = cv2.CascadeClassifier('data/haarcascades/haarcascade_frontalface_default.xml')\n",
    "\n",
    "faces_rects = haar_cascade_face.detectMultiScale(\n",
    "    img_gray,\n",
    "    scaleFactor = 1.2,\n",
    "    minNeighbors = 5)\n",
    "\n",
    "contour_mask = np.zeros(img_gray.shape,np.uint8)\n",
    "for (x,y,w,h) in faces_rects:\n",
    "    cv2.imwrite(\"face_\" + str(i) + \".png\", img[y:y+h, x:x+w])\n",
    "    i = i+1"
   ]
  },
  {
   "cell_type": "code",
   "execution_count": null,
   "metadata": {},
   "outputs": [],
   "source": []
  },
  {
   "cell_type": "code",
   "execution_count": null,
   "metadata": {},
   "outputs": [],
   "source": []
  }
 ],
 "metadata": {
  "kernelspec": {
   "display_name": "Python 3",
   "language": "python",
   "name": "python3"
  },
  "language_info": {
   "codemirror_mode": {
    "name": "ipython",
    "version": 3
   },
   "file_extension": ".py",
   "mimetype": "text/x-python",
   "name": "python",
   "nbconvert_exporter": "python",
   "pygments_lexer": "ipython3",
   "version": "3.6.9"
  }
 },
 "nbformat": 4,
 "nbformat_minor": 2
}
